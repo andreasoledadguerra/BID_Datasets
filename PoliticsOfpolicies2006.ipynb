{
 "cells": [
  {
   "cell_type": "markdown",
   "metadata": {},
   "source": [
    "# The Politics of Policies - IPES 2006\n",
    "\n",
    "## About the dataset\n",
    "\n",
    "This dataset was created to support 2006 IPES - The Politics of Policies on the following topics: macroeconomics, government and democracy.\n",
    "\n"
   ]
  },
  {
   "cell_type": "code",
   "execution_count": null,
   "metadata": {},
   "outputs": [],
   "source": [
    "import pandas as pd\n",
    "import matplotlib as plt\n"
   ]
  },
  {
   "cell_type": "code",
   "execution_count": null,
   "metadata": {},
   "outputs": [],
   "source": [
    "#Reading the data\n",
    "\n",
    "df = pd.read_csv(\"The_Politics_of_Policies_-_IPES_2006_20240221.csv\")"
   ]
  }
 ],
 "metadata": {
  "language_info": {
   "name": "python"
  }
 },
 "nbformat": 4,
 "nbformat_minor": 2
}
